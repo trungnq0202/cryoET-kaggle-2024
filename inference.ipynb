{
 "cells": [
  {
   "cell_type": "code",
   "execution_count": 1,
   "metadata": {},
   "outputs": [],
   "source": [
    "import torch\n",
    "from monai.networks.nets import UNet\n",
    "from monai.inferers import sliding_window_inference"
   ]
  },
  {
   "cell_type": "markdown",
   "metadata": {},
   "source": [
    "### Load test tomograms"
   ]
  },
  {
   "cell_type": "code",
   "execution_count": 2,
   "metadata": {},
   "outputs": [],
   "source": [
    "import numpy as np\n",
    "from tqdm import tqdm\n",
    "import copick\n",
    "\n",
    "copick_config_path = \"configs/test_config.json\" \n",
    "root = copick.from_file(copick_config_path)"
   ]
  },
  {
   "cell_type": "code",
   "execution_count": 3,
   "metadata": {},
   "outputs": [
    {
     "name": "stderr",
     "output_type": "stream",
     "text": [
      "100%|██████████| 3/3 [00:00<00:00,  5.02it/s]\n"
     ]
    }
   ],
   "source": [
    "test_dataset = []\n",
    "for run in tqdm(root.runs):\n",
    "    tomo = run.get_voxel_spacing(10).get_tomogram('denoised').numpy()\n",
    "    test_dataset.append({'image': tomo})\n"
   ]
  },
  {
   "cell_type": "code",
   "execution_count": 4,
   "metadata": {},
   "outputs": [
    {
     "data": {
      "text/plain": [
       "3"
      ]
     },
     "execution_count": 4,
     "metadata": {},
     "output_type": "execute_result"
    }
   ],
   "source": [
    "len(test_dataset)"
   ]
  },
  {
   "cell_type": "markdown",
   "metadata": {},
   "source": [
    "### Create dataloader for the test dataset"
   ]
  },
  {
   "cell_type": "code",
   "execution_count": 5,
   "metadata": {},
   "outputs": [
    {
     "name": "stderr",
     "output_type": "stream",
     "text": [
      "Loading dataset: 100%|██████████| 3/3 [00:00<00:00, 10.60it/s]\n"
     ]
    }
   ],
   "source": [
    "from monai.data import DataLoader, CacheDataset\n",
    "from monai.transforms import (\n",
    "    Compose, \n",
    "    NormalizeIntensityd,\n",
    "    EnsureChannelFirstd, \n",
    "    Activationsd,\n",
    "    AsDiscreted\n",
    ")\n",
    "\n",
    "# define pre transforms\n",
    "pre_transforms = Compose(\n",
    "    [\n",
    "        EnsureChannelFirstd(keys=[\"image\"], channel_dim=\"no_channel\"),\n",
    "        NormalizeIntensityd(keys=[\"image\"]),\n",
    "    ]\n",
    ")\n",
    "\n",
    "\n",
    "test_ds = CacheDataset(data=test_dataset, transform=pre_transforms)\n",
    "test_loader = DataLoader(test_ds, batch_size=4, shuffle=False, num_workers=4, pin_memory=torch.cuda.is_available())"
   ]
  },
  {
   "cell_type": "markdown",
   "metadata": {},
   "source": [
    "### Load model and weights"
   ]
  },
  {
   "cell_type": "code",
   "execution_count": 6,
   "metadata": {},
   "outputs": [
    {
     "name": "stdout",
     "output_type": "stream",
     "text": [
      "cuda\n"
     ]
    },
    {
     "data": {
      "text/plain": [
       "CryoETUNet(\n",
       "  (model): Sequential(\n",
       "    (0): ResidualUnit(\n",
       "      (conv): Sequential(\n",
       "        (unit0): Convolution(\n",
       "          (conv): Conv3d(1, 48, kernel_size=(3, 3, 3), stride=(2, 2, 2), padding=(1, 1, 1))\n",
       "          (adn): ADN(\n",
       "            (N): InstanceNorm3d(48, eps=1e-05, momentum=0.1, affine=False, track_running_stats=False)\n",
       "            (D): Dropout(p=0.0, inplace=False)\n",
       "            (A): PReLU(num_parameters=1)\n",
       "          )\n",
       "        )\n",
       "      )\n",
       "      (residual): Conv3d(1, 48, kernel_size=(3, 3, 3), stride=(2, 2, 2), padding=(1, 1, 1))\n",
       "    )\n",
       "    (1): SkipConnection(\n",
       "      (submodule): Sequential(\n",
       "        (0): ResidualUnit(\n",
       "          (conv): Sequential(\n",
       "            (unit0): Convolution(\n",
       "              (conv): Conv3d(48, 64, kernel_size=(3, 3, 3), stride=(2, 2, 2), padding=(1, 1, 1))\n",
       "              (adn): ADN(\n",
       "                (N): InstanceNorm3d(64, eps=1e-05, momentum=0.1, affine=False, track_running_stats=False)\n",
       "                (D): Dropout(p=0.0, inplace=False)\n",
       "                (A): PReLU(num_parameters=1)\n",
       "              )\n",
       "            )\n",
       "          )\n",
       "          (residual): Conv3d(48, 64, kernel_size=(3, 3, 3), stride=(2, 2, 2), padding=(1, 1, 1))\n",
       "        )\n",
       "        (1): SkipConnection(\n",
       "          (submodule): Sequential(\n",
       "            (0): ResidualUnit(\n",
       "              (conv): Sequential(\n",
       "                (unit0): Convolution(\n",
       "                  (conv): Conv3d(64, 80, kernel_size=(3, 3, 3), stride=(1, 1, 1), padding=(1, 1, 1))\n",
       "                  (adn): ADN(\n",
       "                    (N): InstanceNorm3d(80, eps=1e-05, momentum=0.1, affine=False, track_running_stats=False)\n",
       "                    (D): Dropout(p=0.0, inplace=False)\n",
       "                    (A): PReLU(num_parameters=1)\n",
       "                  )\n",
       "                )\n",
       "              )\n",
       "              (residual): Conv3d(64, 80, kernel_size=(1, 1, 1), stride=(1, 1, 1))\n",
       "            )\n",
       "            (1): SkipConnection(\n",
       "              (submodule): ResidualUnit(\n",
       "                (conv): Sequential(\n",
       "                  (unit0): Convolution(\n",
       "                    (conv): Conv3d(80, 80, kernel_size=(3, 3, 3), stride=(1, 1, 1), padding=(1, 1, 1))\n",
       "                    (adn): ADN(\n",
       "                      (N): InstanceNorm3d(80, eps=1e-05, momentum=0.1, affine=False, track_running_stats=False)\n",
       "                      (D): Dropout(p=0.0, inplace=False)\n",
       "                      (A): PReLU(num_parameters=1)\n",
       "                    )\n",
       "                  )\n",
       "                )\n",
       "                (residual): Identity()\n",
       "              )\n",
       "            )\n",
       "            (2): Sequential(\n",
       "              (0): Convolution(\n",
       "                (conv): ConvTranspose3d(160, 64, kernel_size=(3, 3, 3), stride=(1, 1, 1), padding=(1, 1, 1))\n",
       "                (adn): ADN(\n",
       "                  (N): InstanceNorm3d(64, eps=1e-05, momentum=0.1, affine=False, track_running_stats=False)\n",
       "                  (D): Dropout(p=0.0, inplace=False)\n",
       "                  (A): PReLU(num_parameters=1)\n",
       "                )\n",
       "              )\n",
       "              (1): ResidualUnit(\n",
       "                (conv): Sequential(\n",
       "                  (unit0): Convolution(\n",
       "                    (conv): Conv3d(64, 64, kernel_size=(3, 3, 3), stride=(1, 1, 1), padding=(1, 1, 1))\n",
       "                    (adn): ADN(\n",
       "                      (N): InstanceNorm3d(64, eps=1e-05, momentum=0.1, affine=False, track_running_stats=False)\n",
       "                      (D): Dropout(p=0.0, inplace=False)\n",
       "                      (A): PReLU(num_parameters=1)\n",
       "                    )\n",
       "                  )\n",
       "                )\n",
       "                (residual): Identity()\n",
       "              )\n",
       "            )\n",
       "          )\n",
       "        )\n",
       "        (2): Sequential(\n",
       "          (0): Convolution(\n",
       "            (conv): ConvTranspose3d(128, 48, kernel_size=(3, 3, 3), stride=(2, 2, 2), padding=(1, 1, 1), output_padding=(1, 1, 1))\n",
       "            (adn): ADN(\n",
       "              (N): InstanceNorm3d(48, eps=1e-05, momentum=0.1, affine=False, track_running_stats=False)\n",
       "              (D): Dropout(p=0.0, inplace=False)\n",
       "              (A): PReLU(num_parameters=1)\n",
       "            )\n",
       "          )\n",
       "          (1): ResidualUnit(\n",
       "            (conv): Sequential(\n",
       "              (unit0): Convolution(\n",
       "                (conv): Conv3d(48, 48, kernel_size=(3, 3, 3), stride=(1, 1, 1), padding=(1, 1, 1))\n",
       "                (adn): ADN(\n",
       "                  (N): InstanceNorm3d(48, eps=1e-05, momentum=0.1, affine=False, track_running_stats=False)\n",
       "                  (D): Dropout(p=0.0, inplace=False)\n",
       "                  (A): PReLU(num_parameters=1)\n",
       "                )\n",
       "              )\n",
       "            )\n",
       "            (residual): Identity()\n",
       "          )\n",
       "        )\n",
       "      )\n",
       "    )\n",
       "    (2): Sequential(\n",
       "      (0): Convolution(\n",
       "        (conv): ConvTranspose3d(96, 8, kernel_size=(3, 3, 3), stride=(2, 2, 2), padding=(1, 1, 1), output_padding=(1, 1, 1))\n",
       "        (adn): ADN(\n",
       "          (N): InstanceNorm3d(8, eps=1e-05, momentum=0.1, affine=False, track_running_stats=False)\n",
       "          (D): Dropout(p=0.0, inplace=False)\n",
       "          (A): PReLU(num_parameters=1)\n",
       "        )\n",
       "      )\n",
       "      (1): ResidualUnit(\n",
       "        (conv): Sequential(\n",
       "          (unit0): Convolution(\n",
       "            (conv): Conv3d(8, 8, kernel_size=(3, 3, 3), stride=(1, 1, 1), padding=(1, 1, 1))\n",
       "          )\n",
       "        )\n",
       "        (residual): Identity()\n",
       "      )\n",
       "    )\n",
       "  )\n",
       "  (loss_function): TverskyLoss()\n",
       ")"
      ]
     },
     "execution_count": 6,
     "metadata": {},
     "output_type": "execute_result"
    }
   ],
   "source": [
    "from models import CryoETUNet\n",
    "\n",
    "device = torch.device('cuda' if torch.cuda.is_available() else 'cpu')\n",
    "print(device)\n",
    "\n",
    "model = CryoETUNet(\n",
    "    spatial_dims=3,\n",
    "    in_channels=1,\n",
    "    out_channels=len(root.pickable_objects)+1,\n",
    "    channels=(48, 64, 80, 80),\n",
    "    strides=(2, 2, 1),\n",
    "    num_res_units=1,\n",
    ").to(device)\n",
    "\n",
    "model.load_state_dict(torch.load(\"models/baseline/best_metric_model.pth\", weights_only=True))\n",
    "model.eval()"
   ]
  },
  {
   "cell_type": "markdown",
   "metadata": {},
   "source": [
    "### Inference"
   ]
  },
  {
   "cell_type": "code",
   "execution_count": 7,
   "metadata": {},
   "outputs": [],
   "source": [
    "def inference(model, input):\n",
    "    def _compute(input):\n",
    "        return sliding_window_inference(\n",
    "            inputs=input,\n",
    "            roi_size=(96, 96, 96),\n",
    "            sw_batch_size=4,  # one window is proecessed at a time\n",
    "            predictor=model,\n",
    "            overlap=0.5,\n",
    "        )\n",
    "\n",
    "    with torch.cuda.amp.autocast():\n",
    "        return _compute(input)"
   ]
  },
  {
   "cell_type": "code",
   "execution_count": 8,
   "metadata": {},
   "outputs": [
    {
     "name": "stderr",
     "output_type": "stream",
     "text": [
      "  0%|          | 0/1 [00:00<?, ?it/s]/tmp/ipykernel_18682/339001617.py:11: FutureWarning: `torch.cuda.amp.autocast(args...)` is deprecated. Please use `torch.amp.autocast('cuda', args...)` instead.\n",
      "  with torch.cuda.amp.autocast():\n",
      "100%|██████████| 1/1 [00:06<00:00,  6.64s/it]\n"
     ]
    }
   ],
   "source": [
    "from monai.data import decollate_batch\n",
    "from tqdm import tqdm\n",
    "\n",
    "post_transforms = Compose([\n",
    "    Activationsd(keys=\"pred\", softmax=True),\n",
    "    AsDiscreted(keys=\"pred\", argmax=True)\n",
    "])\n",
    "\n",
    "predictions = []\n",
    "with torch.no_grad():\n",
    "    for data in tqdm(test_loader):\n",
    "        tomogram = data['image'].to(device)  # only support batch=1 and channel first\n",
    "        data[\"pred\"] = inference(model, tomogram)\n",
    "        data = [post_transforms(i) for i in decollate_batch(data)]\n",
    "        for b in data:\n",
    "            predictions.append(b['pred'].squeeze(0).numpy(force=True))"
   ]
  },
  {
   "cell_type": "code",
   "execution_count": 9,
   "metadata": {},
   "outputs": [
    {
     "name": "stdout",
     "output_type": "stream",
     "text": [
      "[0. 1. 3. 4. 5. 6.]\n"
     ]
    }
   ],
   "source": [
    "print(np.unique(predictions[0]))"
   ]
  },
  {
   "cell_type": "code",
   "execution_count": null,
   "metadata": {},
   "outputs": [],
   "source": []
  },
  {
   "cell_type": "code",
   "execution_count": 10,
   "metadata": {},
   "outputs": [
    {
     "name": "stderr",
     "output_type": "stream",
     "text": [
      "0it [00:00, ?it/s]/home/ngo.trun/miniconda3/envs/cryoet/lib/python3.11/site-packages/pydantic/main.py:426: UserWarning: Pydantic serializer warnings:\n",
      "  Expected `CopickPoint` but got `dict` with value `{'x': 4140.0, 'y': 290.0, 'z': 10.0}` - serialized value may not be as expected\n",
      "  Expected `CopickPoint` but got `dict` with value `{'x': 1200.0, 'y': 2.0, 'z': 125.0}` - serialized value may not be as expected\n",
      "  Expected `CopickPoint` but got `dict` with value `{'x': 2400.0, 'y': 1710.0, 'z': 215.0}` - serialized value may not be as expected\n",
      "  Expected `CopickPoint` but got `dict` with value `{'x': 2390.0, 'y': 1720.0, 'z': 220.0}` - serialized value may not be as expected\n",
      "  Expected `CopickPoint` but got `dict` with value `{'x': 6280.0, 'y': 2210.0, 'z': 460.0}` - serialized value may not be as expected\n",
      "  Expected `CopickPoint` but got `dict` with value `{'x': 6288.333333333334, 'y': 2210.0, 'z': 490.0}` - serialized value may not be as expected\n",
      "  Expected `CopickPoint` but got `dict` with value `{'x': 5580.0, 'y': 1930.0, 'z': 860.0}` - serialized value may not be as expected\n",
      "  Expected `CopickPoint` but got `dict` with value `{'x': 760.0, 'y': 2970.0, 'z': 1480.0}` - serialized value may not be as expected\n",
      "  return self.__pydantic_serializer__.to_python(\n"
     ]
    },
    {
     "name": "stdout",
     "output_type": "stream",
     "text": [
      "Centroids for label 1 saved successfully.\n"
     ]
    },
    {
     "name": "stderr",
     "output_type": "stream",
     "text": [
      "/home/ngo.trun/miniconda3/envs/cryoet/lib/python3.11/site-packages/pydantic/main.py:426: UserWarning: Pydantic serializer warnings:\n",
      "  Expected `CopickPoint` but got `dict` with value `{'x': 5880.0, 'y': 4340.0, 'z': 30.0}` - serialized value may not be as expected\n",
      "  Expected `CopickPoint` but got `dict` with value `{'x': 5901.666666666666, 'y': 4340.0, 'z': 30.0}` - serialized value may not be as expected\n",
      "  Expected `CopickPoint` but got `dict` with value `{'x': 5911.0, 'y': 4334.0, 'z': 41.0}` - serialized value may not be as expected\n",
      "  Expected `CopickPoint` but got `dict` with value `{'x': 4160.0, 'y': 130.0, 'z': 50.0}` - serialized value may not be as expected\n",
      "  Expected `CopickPoint` but got `dict` with value `{'x': 1570.0, 'y': 880.0, 'z': 80.0}` - serialized value may not be as expected\n",
      "  Expected `CopickPoint` but got `dict` with value `{'x': 1580.0, 'y': 920.0, 'z': 90.0}` - serialized value may not be as expected\n",
      "  Expected `CopickPoint` but got `dict` with value `{'x': 2068.0, 'y': 1880.0, 'z': 282.0}` - serialized value may not be as expected\n",
      "  Expected `CopickPoint` but got `dict` with value `{'x': 4550.0, 'y': 5290.0, 'z': 380.0}` - serialized value may not be as expected\n",
      "  Expected `CopickPoint` but got `dict` with value `{'x': 4570.0, 'y': 5250.0, 'z': 390.0}` - serialized value may not be as expected\n",
      "  Expected `CopickPoint` but got `dict` with value `{'x': 2200.0, 'y': 1180.0, 'z': 480.0}` - serialized value may not be as expected\n",
      "  Expected `CopickPoint` but got `dict` with value `{'x': 2240.0, 'y': 5280.0, 'z': 520.0}` - serialized value may not be as expected\n",
      "  Expected `CopickPoint` but got `dict` with value `{'x': 2600.0, 'y': 810.0, 'z': 850.0}` - serialized value may not be as expected\n",
      "  Expected `CopickPoint` but got `dict` with value `{'x': 2590.0, 'y': 800.0, 'z': 860.0}` - serialized value may not be as expected\n",
      "  Expected `CopickPoint` but got `dict` with value `{'x': 4610.0, 'y': 1200.0, 'z': 920.0}` - serialized value may not be as expected\n",
      "  Expected `CopickPoint` but got `dict` with value `{'x': 920.0, 'y': 4200.0, 'z': 1110.0}` - serialized value may not be as expected\n",
      "  Expected `CopickPoint` but got `dict` with value `{'x': 1000.0, 'y': 2160.0, 'z': 1210.0}` - serialized value may not be as expected\n",
      "  Expected `CopickPoint` but got `dict` with value `{'x': 3880.0, 'y': 2600.0, 'z': 1250.0}` - serialized value may not be as expected\n",
      "  Expected `CopickPoint` but got `dict` with value `{'x': 842.0, 'y': 5758.0, 'z': 1550.0}` - serialized value may not be as expected\n",
      "  return self.__pydantic_serializer__.to_python(\n"
     ]
    },
    {
     "name": "stdout",
     "output_type": "stream",
     "text": [
      "Centroids for label 3 saved successfully.\n"
     ]
    },
    {
     "name": "stderr",
     "output_type": "stream",
     "text": [
      "/home/ngo.trun/miniconda3/envs/cryoet/lib/python3.11/site-packages/pydantic/main.py:426: UserWarning: Pydantic serializer warnings:\n",
      "  Expected `CopickPoint` but got `dict` with value `{'x': 2940.0, 'y': 470.0, 'z': 130.0}` - serialized value may not be as expected\n",
      "  Expected `CopickPoint` but got `dict` with value `{'x': 6120.0, 'y': 5112.0, 'z': 128.0}` - serialized value may not be as expected\n",
      "  Expected `CopickPoint` but got `dict` with value `{'x': 2930.0, 'y': 460.0, 'z': 140.0}` - serialized value may not be as expected\n",
      "  Expected `CopickPoint` but got `dict` with value `{'x': 6118.0, 'y': 5100.0, 'z': 138.0}` - serialized value may not be as expected\n",
      "  Expected `CopickPoint` but got `dict` with value `{'x': 6142.5, 'y': 5087.5, 'z': 147.5}` - serialized value may not be as expected\n",
      "  Expected `CopickPoint` but got `dict` with value `{'x': 5187.777777777778, ...'z': 178.88888888888889}` - serialized value may not be as expected\n",
      "  Expected `CopickPoint` but got `dict` with value `{'x': 5200.0, 'y': 2590.0, 'z': 190.0}` - serialized value may not be as expected\n",
      "  Expected `CopickPoint` but got `dict` with value `{'x': 2830.0, 'y': 1910.0, 'z': 280.0}` - serialized value may not be as expected\n",
      "  Expected `CopickPoint` but got `dict` with value `{'x': 2870.0, 'y': 1870.0, 'z': 290.0}` - serialized value may not be as expected\n",
      "  Expected `CopickPoint` but got `dict` with value `{'x': 2858.0, 'y': 1870.0, 'z': 302.0}` - serialized value may not be as expected\n",
      "  Expected `CopickPoint` but got `dict` with value `{'x': 2360.0, 'y': 2350.0, 'z': 320.0}` - serialized value may not be as expected\n",
      "  Expected `CopickPoint` but got `dict` with value `{'x': 5340.0, 'y': 2290.0...'z': 358.33333333333337}` - serialized value may not be as expected\n",
      "  Expected `CopickPoint` but got `dict` with value `{'x': 490.0, 'y': 4290.0, 'z': 420.0}` - serialized value may not be as expected\n",
      "  Expected `CopickPoint` but got `dict` with value `{'x': 490.0, 'y': 4290.0, 'z': 441.66666666666663}` - serialized value may not be as expected\n",
      "  Expected `CopickPoint` but got `dict` with value `{'x': 652.0, 'y': 3130.0, 'z': 648.0}` - serialized value may not be as expected\n",
      "  Expected `CopickPoint` but got `dict` with value `{'x': 621.1111111111111, ...33333333333, 'z': 800.0}` - serialized value may not be as expected\n",
      "  Expected `CopickPoint` but got `dict` with value `{'x': 2532.5, 'y': 3802.5, 'z': 837.5}` - serialized value may not be as expected\n",
      "  Expected `CopickPoint` but got `dict` with value `{'x': 2540.0, 'y': 3690.0, 'z': 910.0}` - serialized value may not be as expected\n",
      "  Expected `CopickPoint` but got `dict` with value `{'x': 562.0, 'y': 680.0, 'z': 1188.0}` - serialized value may not be as expected\n",
      "  Expected `CopickPoint` but got `dict` with value `{'x': 2860.0, 'y': 1930.0, 'z': 1210.0}` - serialized value may not be as expected\n",
      "  Expected `CopickPoint` but got `dict` with value `{'x': 2890.0, 'y': 4930.0, 'z': 1210.0}` - serialized value may not be as expected\n",
      "  Expected `CopickPoint` but got `dict` with value `{'x': 1900.0, 'y': 1250.0, 'z': 1270.0}` - serialized value may not be as expected\n",
      "  return self.__pydantic_serializer__.to_python(\n"
     ]
    },
    {
     "name": "stdout",
     "output_type": "stream",
     "text": [
      "Centroids for label 4 saved successfully.\n"
     ]
    },
    {
     "name": "stderr",
     "output_type": "stream",
     "text": [
      "/home/ngo.trun/miniconda3/envs/cryoet/lib/python3.11/site-packages/pydantic/main.py:426: UserWarning: Pydantic serializer warnings:\n",
      "  Expected `CopickPoint` but got `dict` with value `{'x': 3497.5, 'y': 1887.5, 'z': 107.5}` - serialized value may not be as expected\n",
      "  Expected `CopickPoint` but got `dict` with value `{'x': 3510.0, 'y': 1890.0, 'z': 120.0}` - serialized value may not be as expected\n",
      "  Expected `CopickPoint` but got `dict` with value `{'x': 740.0, 'y': 1202.5, 'z': 150.0}` - serialized value may not be as expected\n",
      "  Expected `CopickPoint` but got `dict` with value `{'x': 990.0, 'y': 2090.0, 'z': 310.0}` - serialized value may not be as expected\n",
      "  Expected `CopickPoint` but got `dict` with value `{'x': 4362.0, 'y': 6060.0, 'z': 348.0}` - serialized value may not be as expected\n",
      "  Expected `CopickPoint` but got `dict` with value `{'x': 4350.0, 'y': 6080.0, 'z': 380.0}` - serialized value may not be as expected\n",
      "  Expected `CopickPoint` but got `dict` with value `{'x': 4338.0, 'y': 6080.0, 'z': 392.0}` - serialized value may not be as expected\n",
      "  Expected `CopickPoint` but got `dict` with value `{'x': 4282.5, 'y': 2807.5, 'z': 437.5}` - serialized value may not be as expected\n",
      "  Expected `CopickPoint` but got `dict` with value `{'x': 4270.0, 'y': 2822.0, 'z': 438.0}` - serialized value may not be as expected\n",
      "  Expected `CopickPoint` but got `dict` with value `{'x': 4260.0, 'y': 2790.0, 'z': 450.0}` - serialized value may not be as expected\n",
      "  Expected `CopickPoint` but got `dict` with value `{'x': 4270.0, 'y': 2810.0, 'z': 450.0}` - serialized value may not be as expected\n",
      "  Expected `CopickPoint` but got `dict` with value `{'x': 4257.5, 'y': 2822.5, 'z': 452.5}` - serialized value may not be as expected\n",
      "  Expected `CopickPoint` but got `dict` with value `{'x': 2210.0, 'y': 1220.0, 'z': 460.0}` - serialized value may not be as expected\n",
      "  Expected `CopickPoint` but got `dict` with value `{'x': 2198.0, 'y': 1232.0, 'z': 460.0}` - serialized value may not be as expected\n",
      "  Expected `CopickPoint` but got `dict` with value `{'x': 5780.0, 'y': 2130.0, 'z': 460.0}` - serialized value may not be as expected\n",
      "  Expected `CopickPoint` but got `dict` with value `{'x': 1130.0, 'y': 4350.0, 'z': 740.0}` - serialized value may not be as expected\n",
      "  Expected `CopickPoint` but got `dict` with value `{'x': 6120.0, 'y': 6210.0, 'z': 850.0}` - serialized value may not be as expected\n",
      "  Expected `CopickPoint` but got `dict` with value `{'x': 670.0, 'y': 5168.0, 'z': 908.0}` - serialized value may not be as expected\n",
      "  Expected `CopickPoint` but got `dict` with value `{'x': 670.0, 'y': 5180.0, 'z': 920.0}` - serialized value may not be as expected\n",
      "  Expected `CopickPoint` but got `dict` with value `{'x': 30.0, 'y': 6270.0, 'z': 920.0}` - serialized value may not be as expected\n",
      "  Expected `CopickPoint` but got `dict` with value `{'x': 1260.0, 'y': 5930.0, 'z': 940.0}` - serialized value may not be as expected\n",
      "  Expected `CopickPoint` but got `dict` with value `{'x': 5000.0, 'y': 860.0, 'z': 970.0}` - serialized value may not be as expected\n",
      "  Expected `CopickPoint` but got `dict` with value `{'x': 1950.0, 'y': 1050.0, 'z': 970.0}` - serialized value may not be as expected\n",
      "  Expected `CopickPoint` but got `dict` with value `{'x': 1258.0, 'y': 5908.0, 'z': 970.0}` - serialized value may not be as expected\n",
      "  Expected `CopickPoint` but got `dict` with value `{'x': 6150.0, 'y': 6210.0, 'z': 970.0}` - serialized value may not be as expected\n",
      "  Expected `CopickPoint` but got `dict` with value `{'x': 520.0, 'y': 4240.0, 'z': 1080.0}` - serialized value may not be as expected\n",
      "  Expected `CopickPoint` but got `dict` with value `{'x': 1390.0, 'y': 5428.333333333334, 'z': 1100.0}` - serialized value may not be as expected\n",
      "  Expected `CopickPoint` but got `dict` with value `{'x': 1368.0, 'y': 5470.0, 'z': 1102.0}` - serialized value may not be as expected\n",
      "  Expected `CopickPoint` but got `dict` with value `{'x': 1150.0, 'y': 3810.0, 'z': 1120.0}` - serialized value may not be as expected\n",
      "  Expected `CopickPoint` but got `dict` with value `{'x': 3390.0, 'y': 2792.0, 'z': 1152.0}` - serialized value may not be as expected\n",
      "  Expected `CopickPoint` but got `dict` with value `{'x': 6112.0, 'y': 5240.0, 'z': 1338.0}` - serialized value may not be as expected\n",
      "  Expected `CopickPoint` but got `dict` with value `{'x': 3030.0, 'y': 1710.0, 'z': 1350.0}` - serialized value may not be as expected\n",
      "  Expected `CopickPoint` but got `dict` with value `{'x': 1540.0, 'y': 2880.0, 'z': 1410.0}` - serialized value may not be as expected\n",
      "  Expected `CopickPoint` but got `dict` with value `{'x': 1562.0, 'y': 2850.0, 'z': 1438.0}` - serialized value may not be as expected\n",
      "  Expected `CopickPoint` but got `dict` with value `{'x': 1580.0, 'y': 2850.0, 'z': 1450.0}` - serialized value may not be as expected\n",
      "  Expected `CopickPoint` but got `dict` with value `{'x': 260.0, 'y': 6260.0, 'z': 1800.0}` - serialized value may not be as expected\n",
      "  Expected `CopickPoint` but got `dict` with value `{'x': 300.0, 'y': 6260.0, 'z': 1800.0}` - serialized value may not be as expected\n",
      "  Expected `CopickPoint` but got `dict` with value `{'x': 318.8888888888889, ...5555555556, 'z': 1800.0}` - serialized value may not be as expected\n",
      "  Expected `CopickPoint` but got `dict` with value `{'x': 338.0, 'y': 6265.0, 'z': 1800.0}` - serialized value may not be as expected\n",
      "  Expected `CopickPoint` but got `dict` with value `{'x': 378.88888888888886,...5555555556, 'z': 1800.0}` - serialized value may not be as expected\n",
      "  Expected `CopickPoint` but got `dict` with value `{'x': 421.66666666666663,...y': 6260.0, 'z': 1800.0}` - serialized value may not be as expected\n",
      "  Expected `CopickPoint` but got `dict` with value `{'x': 460.0, 'y': 6260.0, 'z': 1800.0}` - serialized value may not be as expected\n",
      "  return self.__pydantic_serializer__.to_python(\n"
     ]
    },
    {
     "name": "stdout",
     "output_type": "stream",
     "text": [
      "Centroids for label 5 saved successfully.\n"
     ]
    },
    {
     "name": "stderr",
     "output_type": "stream",
     "text": [
      "/home/ngo.trun/miniconda3/envs/cryoet/lib/python3.11/site-packages/pydantic/main.py:426: UserWarning: Pydantic serializer warnings:\n",
      "  Expected `CopickPoint` but got `dict` with value `{'x': 1532.0, 'y': 940.0, 'z': 108.0}` - serialized value may not be as expected\n",
      "  Expected `CopickPoint` but got `dict` with value `{'x': 1520.0, 'y': 940.0, 'z': 120.0}` - serialized value may not be as expected\n",
      "  Expected `CopickPoint` but got `dict` with value `{'x': 1532.0, 'y': 940.0, 'z': 132.0}` - serialized value may not be as expected\n",
      "  Expected `CopickPoint` but got `dict` with value `{'x': 2860.0, 'y': 1000.0, 'z': 160.0}` - serialized value may not be as expected\n",
      "  Expected `CopickPoint` but got `dict` with value `{'x': 2365.0, 'y': 2320.0, 'z': 380.0}` - serialized value may not be as expected\n",
      "  Expected `CopickPoint` but got `dict` with value `{'x': 6150.0, 'y': 5670.0, 'z': 400.0}` - serialized value may not be as expected\n",
      "  Expected `CopickPoint` but got `dict` with value `{'x': 6026.0, 'y': 4413.0, 'z': 489.0}` - serialized value may not be as expected\n",
      "  Expected `CopickPoint` but got `dict` with value `{'x': 6190.0, 'y': 4240.0, 'z': 540.0}` - serialized value may not be as expected\n",
      "  Expected `CopickPoint` but got `dict` with value `{'x': 6277.5, 'y': 3302.5, 'z': 547.5}` - serialized value may not be as expected\n",
      "  Expected `CopickPoint` but got `dict` with value `{'x': 6168.0, 'y': 4272.0, 'z': 560.0}` - serialized value may not be as expected\n",
      "  Expected `CopickPoint` but got `dict` with value `{'x': 5620.0, 'y': 5260.0, 'z': 560.0}` - serialized value may not be as expected\n",
      "  Expected `CopickPoint` but got `dict` with value `{'x': 6190.0, 'y': 4250.0, 'z': 580.0}` - serialized value may not be as expected\n",
      "  Expected `CopickPoint` but got `dict` with value `{'x': 6192.5, 'y': 4247.5, 'z': 602.5}` - serialized value may not be as expected\n",
      "  Expected `CopickPoint` but got `dict` with value `{'x': 570.0, 'y': 4380.0, 'z': 620.0}` - serialized value may not be as expected\n",
      "  Expected `CopickPoint` but got `dict` with value `{'x': 4810.0, 'y': 2860.0, 'z': 700.0}` - serialized value may not be as expected\n",
      "  Expected `CopickPoint` but got `dict` with value `{'x': 6080.0, 'y': 4880.0, 'z': 790.0}` - serialized value may not be as expected\n",
      "  Expected `CopickPoint` but got `dict` with value `{'x': 5980.0, 'y': 4780.0, 'z': 850.0}` - serialized value may not be as expected\n",
      "  Expected `CopickPoint` but got `dict` with value `{'x': 4810.0, 'y': 4950.0, 'z': 970.0}` - serialized value may not be as expected\n",
      "  Expected `CopickPoint` but got `dict` with value `{'x': 1890.0, 'y': 740.0, 'z': 1210.0}` - serialized value may not be as expected\n",
      "  Expected `CopickPoint` but got `dict` with value `{'x': 6220.0, 'y': 2100.0...'z': 1618.3333333333335}` - serialized value may not be as expected\n",
      "  Expected `CopickPoint` but got `dict` with value `{'x': 6220.0, 'y': 2100.0, 'z': 1640.0}` - serialized value may not be as expected\n",
      "  Expected `CopickPoint` but got `dict` with value `{'x': 6040.0, 'y': 5250.0, 'z': 1690.0}` - serialized value may not be as expected\n",
      "  Expected `CopickPoint` but got `dict` with value `{'x': 6220.0, 'y': 938.0, 'z': 1768.0}` - serialized value may not be as expected\n",
      "  return self.__pydantic_serializer__.to_python(\n",
      "1it [00:46, 46.47s/it]"
     ]
    },
    {
     "name": "stdout",
     "output_type": "stream",
     "text": [
      "Centroids for label 6 saved successfully.\n",
      "No segmentation with label 9 found.\n"
     ]
    },
    {
     "name": "stderr",
     "output_type": "stream",
     "text": [
      "/home/ngo.trun/miniconda3/envs/cryoet/lib/python3.11/site-packages/pydantic/main.py:426: UserWarning: Pydantic serializer warnings:\n",
      "  Expected `CopickPoint` but got `dict` with value `{'x': 2960.0, 'y': 150.0, 'z': 890.0}` - serialized value may not be as expected\n",
      "  Expected `CopickPoint` but got `dict` with value `{'x': 2950.0, 'y': 170.0, 'z': 890.0}` - serialized value may not be as expected\n",
      "  Expected `CopickPoint` but got `dict` with value `{'x': 2948.75, 'y': 153.75, 'z': 902.5}` - serialized value may not be as expected\n",
      "  Expected `CopickPoint` but got `dict` with value `{'x': 2648.0, 'y': 4098.0, 'z': 1170.0}` - serialized value may not be as expected\n",
      "  Expected `CopickPoint` but got `dict` with value `{'x': 2660.0, 'y': 4110.0, 'z': 1170.0}` - serialized value may not be as expected\n",
      "  return self.__pydantic_serializer__.to_python(\n"
     ]
    },
    {
     "name": "stdout",
     "output_type": "stream",
     "text": [
      "Centroids for label 1 saved successfully.\n"
     ]
    },
    {
     "name": "stderr",
     "output_type": "stream",
     "text": [
      "/home/ngo.trun/miniconda3/envs/cryoet/lib/python3.11/site-packages/pydantic/main.py:426: UserWarning: Pydantic serializer warnings:\n",
      "  Expected `CopickPoint` but got `dict` with value `{'x': 1810.0, 'y': 4810.0, 'z': 570.0}` - serialized value may not be as expected\n",
      "  Expected `CopickPoint` but got `dict` with value `{'x': 4640.0, 'y': 1600.0, 'z': 590.0}` - serialized value may not be as expected\n",
      "  Expected `CopickPoint` but got `dict` with value `{'x': 4240.0, 'y': 5650.0, 'z': 820.0}` - serialized value may not be as expected\n",
      "  Expected `CopickPoint` but got `dict` with value `{'x': 2590.0, 'y': 320.0, 'z': 840.0}` - serialized value may not be as expected\n",
      "  Expected `CopickPoint` but got `dict` with value `{'x': 4255.0, 'y': 5660.0, 'z': 830.0}` - serialized value may not be as expected\n",
      "  Expected `CopickPoint` but got `dict` with value `{'x': 4230.0, 'y': 5660.0, 'z': 850.0}` - serialized value may not be as expected\n",
      "  Expected `CopickPoint` but got `dict` with value `{'x': 4171.111111111111, ... 'z': 1058.888888888889}` - serialized value may not be as expected\n",
      "  Expected `CopickPoint` but got `dict` with value `{'x': 4160.0, 'y': 1550.0, 'z': 1060.0}` - serialized value may not be as expected\n",
      "  Expected `CopickPoint` but got `dict` with value `{'x': 4160.0, 'y': 1538.0, 'z': 1072.0}` - serialized value may not be as expected\n",
      "  Expected `CopickPoint` but got `dict` with value `{'x': 4172.5, 'y': 1552.5, 'z': 1072.5}` - serialized value may not be as expected\n",
      "  return self.__pydantic_serializer__.to_python(\n"
     ]
    },
    {
     "name": "stdout",
     "output_type": "stream",
     "text": [
      "Centroids for label 3 saved successfully.\n"
     ]
    },
    {
     "name": "stderr",
     "output_type": "stream",
     "text": [
      "/home/ngo.trun/miniconda3/envs/cryoet/lib/python3.11/site-packages/pydantic/main.py:426: UserWarning: Pydantic serializer warnings:\n",
      "  Expected `CopickPoint` but got `dict` with value `{'x': 5760.0, 'y': 6160.0, 'z': 500.0}` - serialized value may not be as expected\n",
      "  Expected `CopickPoint` but got `dict` with value `{'x': 2758.0, 'y': 830.0, 'z': 612.0}` - serialized value may not be as expected\n",
      "  Expected `CopickPoint` but got `dict` with value `{'x': 2900.0, 'y': 770.0, 'z': 750.0}` - serialized value may not be as expected\n",
      "  Expected `CopickPoint` but got `dict` with value `{'x': 5090.0, 'y': 5770.0, 'z': 820.0}` - serialized value may not be as expected\n",
      "  Expected `CopickPoint` but got `dict` with value `{'x': 5010.0, 'y': 1750.0, 'z': 840.0}` - serialized value may not be as expected\n",
      "  Expected `CopickPoint` but got `dict` with value `{'x': 5022.5, 'y': 1762.5, 'z': 837.5}` - serialized value may not be as expected\n",
      "  Expected `CopickPoint` but got `dict` with value `{'x': 5910.0, 'y': 3680.0, 'z': 850.0}` - serialized value may not be as expected\n",
      "  Expected `CopickPoint` but got `dict` with value `{'x': 5920.0, 'y': 3690.0, 'z': 860.0}` - serialized value may not be as expected\n",
      "  Expected `CopickPoint` but got `dict` with value `{'x': 5890.0, 'y': 3690.0, 'z': 870.0}` - serialized value may not be as expected\n",
      "  Expected `CopickPoint` but got `dict` with value `{'x': 2019.0, 'y': 2901.0, 'z': 896.0}` - serialized value may not be as expected\n",
      "  Expected `CopickPoint` but got `dict` with value `{'x': 5000.0, 'y': 1811.0, 'z': 907.0}` - serialized value may not be as expected\n",
      "  Expected `CopickPoint` but got `dict` with value `{'x': 5012.0, 'y': 1822.0, 'z': 910.0}` - serialized value may not be as expected\n",
      "  Expected `CopickPoint` but got `dict` with value `{'x': 1470.0, 'y': 5000.0, 'z': 910.0}` - serialized value may not be as expected\n",
      "  Expected `CopickPoint` but got `dict` with value `{'x': 3560.0, 'y': 5660.0, 'z': 1040.0}` - serialized value may not be as expected\n",
      "  Expected `CopickPoint` but got `dict` with value `{'x': 3550.0, 'y': 5690.0, 'z': 1060.0}` - serialized value may not be as expected\n",
      "  Expected `CopickPoint` but got `dict` with value `{'x': 5620.0, 'y': 1660.0, 'z': 1190.0}` - serialized value may not be as expected\n",
      "  Expected `CopickPoint` but got `dict` with value `{'x': 1790.0, 'y': 210.0, 'z': 1280.0}` - serialized value may not be as expected\n",
      "  Expected `CopickPoint` but got `dict` with value `{'x': 1778.0, 'y': 210.0, 'z': 1292.0}` - serialized value may not be as expected\n",
      "  Expected `CopickPoint` but got `dict` with value `{'x': 5402.0, 'y': 4468.0, 'z': 1300.0}` - serialized value may not be as expected\n",
      "  return self.__pydantic_serializer__.to_python(\n"
     ]
    },
    {
     "name": "stdout",
     "output_type": "stream",
     "text": [
      "Centroids for label 4 saved successfully.\n"
     ]
    },
    {
     "name": "stderr",
     "output_type": "stream",
     "text": [
      "/home/ngo.trun/miniconda3/envs/cryoet/lib/python3.11/site-packages/pydantic/main.py:426: UserWarning: Pydantic serializer warnings:\n",
      "  Expected `CopickPoint` but got `dict` with value `{'x': 760.0, 'y': 5500.0, 'z': 370.0}` - serialized value may not be as expected\n",
      "  Expected `CopickPoint` but got `dict` with value `{'x': 770.0, 'y': 5510.0, 'z': 390.0}` - serialized value may not be as expected\n",
      "  Expected `CopickPoint` but got `dict` with value `{'x': 5818.0, 'y': 6078.0, 'z': 400.0}` - serialized value may not be as expected\n",
      "  Expected `CopickPoint` but got `dict` with value `{'x': 5818.0, 'y': 6048.0, 'z': 430.0}` - serialized value may not be as expected\n",
      "  Expected `CopickPoint` but got `dict` with value `{'x': 20.0, 'y': 4450.0, 'z': 440.0}` - serialized value may not be as expected\n",
      "  Expected `CopickPoint` but got `dict` with value `{'x': 5829.0, 'y': 6049.0, 'z': 456.0}` - serialized value may not be as expected\n",
      "  Expected `CopickPoint` but got `dict` with value `{'x': 1320.0, 'y': 1430.0, 'z': 500.0}` - serialized value may not be as expected\n",
      "  Expected `CopickPoint` but got `dict` with value `{'x': 1308.0, 'y': 1442.0, 'z': 500.0}` - serialized value may not be as expected\n",
      "  Expected `CopickPoint` but got `dict` with value `{'x': 1340.0, 'y': 1410.0, 'z': 510.0}` - serialized value may not be as expected\n",
      "  Expected `CopickPoint` but got `dict` with value `{'x': 5840.0, 'y': 6090.0, 'z': 510.0}` - serialized value may not be as expected\n",
      "  Expected `CopickPoint` but got `dict` with value `{'x': 3146.666666666667, ...33333333334, 'z': 530.0}` - serialized value may not be as expected\n",
      "  Expected `CopickPoint` but got `dict` with value `{'x': 3070.0, 'y': 5660.0, 'z': 570.0}` - serialized value may not be as expected\n",
      "  Expected `CopickPoint` but got `dict` with value `{'x': 6028.0, 'y': 1300.0, 'z': 618.0}` - serialized value may not be as expected\n",
      "  Expected `CopickPoint` but got `dict` with value `{'x': 1690.0, 'y': 3580.0, 'z': 660.0}` - serialized value may not be as expected\n",
      "  Expected `CopickPoint` but got `dict` with value `{'x': 1740.0, 'y': 3560.0, 'z': 680.0}` - serialized value may not be as expected\n",
      "  Expected `CopickPoint` but got `dict` with value `{'x': 4526.666666666667, ... 'z': 876.6666666666667}` - serialized value may not be as expected\n",
      "  Expected `CopickPoint` but got `dict` with value `{'x': 6137.5, 'y': 5367.5, 'z': 1057.5}` - serialized value may not be as expected\n",
      "  Expected `CopickPoint` but got `dict` with value `{'x': 6152.0, 'y': 5380.0, 'z': 1058.0}` - serialized value may not be as expected\n",
      "  Expected `CopickPoint` but got `dict` with value `{'x': 6140.0, 'y': 5391.666666666666, 'z': 1100.0}` - serialized value may not be as expected\n",
      "  Expected `CopickPoint` but got `dict` with value `{'x': 6150.0, 'y': 5360.0, 'z': 1110.0}` - serialized value may not be as expected\n",
      "  Expected `CopickPoint` but got `dict` with value `{'x': 6150.0, 'y': 5381.666666666666, 'z': 1110.0}` - serialized value may not be as expected\n",
      "  Expected `CopickPoint` but got `dict` with value `{'x': 2430.0, 'y': 240.0, 'z': 1240.0}` - serialized value may not be as expected\n",
      "  Expected `CopickPoint` but got `dict` with value `{'x': 5030.0, 'y': 3930.0, 'z': 1390.0}` - serialized value may not be as expected\n",
      "  Expected `CopickPoint` but got `dict` with value `{'x': 13.333333333333332,...3333333334, 'z': 1790.0}` - serialized value may not be as expected\n",
      "  Expected `CopickPoint` but got `dict` with value `{'x': 390.0, 'y': 5830.0, 'z': 1810.0}` - serialized value may not be as expected\n",
      "  Expected `CopickPoint` but got `dict` with value `{'x': 410.0, 'y': 5850.0, 'z': 1810.0}` - serialized value may not be as expected\n",
      "  return self.__pydantic_serializer__.to_python(\n"
     ]
    },
    {
     "name": "stdout",
     "output_type": "stream",
     "text": [
      "Centroids for label 5 saved successfully.\n"
     ]
    },
    {
     "name": "stderr",
     "output_type": "stream",
     "text": [
      "/home/ngo.trun/miniconda3/envs/cryoet/lib/python3.11/site-packages/pydantic/main.py:426: UserWarning: Pydantic serializer warnings:\n",
      "  Expected `CopickPoint` but got `dict` with value `{'x': 940.0, 'y': 370.0, 'z': 480.0}` - serialized value may not be as expected\n",
      "  Expected `CopickPoint` but got `dict` with value `{'x': 940.0, 'y': 382.0, 'z': 492.0}` - serialized value may not be as expected\n",
      "  Expected `CopickPoint` but got `dict` with value `{'x': 3680.0, 'y': 4330.0, 'z': 700.0}` - serialized value may not be as expected\n",
      "  Expected `CopickPoint` but got `dict` with value `{'x': 2160.0, 'y': 6020.0, 'z': 890.0}` - serialized value may not be as expected\n",
      "  Expected `CopickPoint` but got `dict` with value `{'x': 1140.0, 'y': 3300.0, 'z': 910.0}` - serialized value may not be as expected\n",
      "  Expected `CopickPoint` but got `dict` with value `{'x': 2380.0, 'y': 2390.0, 'z': 1080.0}` - serialized value may not be as expected\n",
      "  Expected `CopickPoint` but got `dict` with value `{'x': 2380.0, 'y': 2402.0, 'z': 1092.0}` - serialized value may not be as expected\n",
      "  return self.__pydantic_serializer__.to_python(\n",
      "2it [01:33, 46.62s/it]"
     ]
    },
    {
     "name": "stdout",
     "output_type": "stream",
     "text": [
      "Centroids for label 6 saved successfully.\n",
      "No segmentation with label 9 found.\n"
     ]
    },
    {
     "name": "stderr",
     "output_type": "stream",
     "text": [
      "/home/ngo.trun/miniconda3/envs/cryoet/lib/python3.11/site-packages/pydantic/main.py:426: UserWarning: Pydantic serializer warnings:\n",
      "  Expected `CopickPoint` but got `dict` with value `{'x': 5730.0, 'y': 3320.0, 'z': 270.0}` - serialized value may not be as expected\n",
      "  Expected `CopickPoint` but got `dict` with value `{'x': 170.0, 'y': 2420.0, 'z': 300.0}` - serialized value may not be as expected\n",
      "  Expected `CopickPoint` but got `dict` with value `{'x': 3370.0, 'y': 2610.0, 'z': 410.0}` - serialized value may not be as expected\n",
      "  Expected `CopickPoint` but got `dict` with value `{'x': 3970.0, 'y': 2580.0, 'z': 560.0}` - serialized value may not be as expected\n",
      "  Expected `CopickPoint` but got `dict` with value `{'x': 3958.0, 'y': 2592.0, 'z': 560.0}` - serialized value may not be as expected\n",
      "  return self.__pydantic_serializer__.to_python(\n"
     ]
    },
    {
     "name": "stdout",
     "output_type": "stream",
     "text": [
      "Centroids for label 1 saved successfully.\n"
     ]
    },
    {
     "name": "stderr",
     "output_type": "stream",
     "text": [
      "/home/ngo.trun/miniconda3/envs/cryoet/lib/python3.11/site-packages/pydantic/main.py:426: UserWarning: Pydantic serializer warnings:\n",
      "  Expected `CopickPoint` but got `dict` with value `{'x': 5770.0, 'y': 3390.0, 'z': 90.0}` - serialized value may not be as expected\n",
      "  Expected `CopickPoint` but got `dict` with value `{'x': 5780.0, 'y': 3400.0, 'z': 100.0}` - serialized value may not be as expected\n",
      "  Expected `CopickPoint` but got `dict` with value `{'x': 4062.0, 'y': 2560.0, 'z': 388.0}` - serialized value may not be as expected\n",
      "  Expected `CopickPoint` but got `dict` with value `{'x': 4050.0, 'y': 2560.0...'z': 398.33333333333337}` - serialized value may not be as expected\n",
      "  Expected `CopickPoint` but got `dict` with value `{'x': 4050.0, 'y': 2560.0, 'z': 420.0}` - serialized value may not be as expected\n",
      "  Expected `CopickPoint` but got `dict` with value `{'x': 120.0, 'y': 3380.0, 'z': 510.0}` - serialized value may not be as expected\n",
      "  Expected `CopickPoint` but got `dict` with value `{'x': 2180.0, 'y': 4200.0, 'z': 510.0}` - serialized value may not be as expected\n",
      "  Expected `CopickPoint` but got `dict` with value `{'x': 142.5, 'y': 3387.5, 'z': 522.5}` - serialized value may not be as expected\n",
      "  Expected `CopickPoint` but got `dict` with value `{'x': 3530.0, 'y': 4210.0, 'z': 640.0}` - serialized value may not be as expected\n",
      "  Expected `CopickPoint` but got `dict` with value `{'x': 4070.0, 'y': 6260.0, 'z': 700.0}` - serialized value may not be as expected\n",
      "  Expected `CopickPoint` but got `dict` with value `{'x': 6060.0, 'y': 310.0, 'z': 760.0}` - serialized value may not be as expected\n",
      "  Expected `CopickPoint` but got `dict` with value `{'x': 288.0, 'y': 5350.0, 'z': 968.0}` - serialized value may not be as expected\n",
      "  Expected `CopickPoint` but got `dict` with value `{'x': 300.0, 'y': 5350.0, 'z': 980.0}` - serialized value may not be as expected\n",
      "  Expected `CopickPoint` but got `dict` with value `{'x': 1600.0, 'y': 3520.0, 'z': 1050.0}` - serialized value may not be as expected\n",
      "  Expected `CopickPoint` but got `dict` with value `{'x': 830.0, 'y': 1840.0, 'z': 1300.0}` - serialized value may not be as expected\n",
      "  Expected `CopickPoint` but got `dict` with value `{'x': 800.0, 'y': 4760.0, 'z': 1310.0}` - serialized value may not be as expected\n",
      "  Expected `CopickPoint` but got `dict` with value `{'x': 5172.0, 'y': 2852.0, 'z': 1320.0}` - serialized value may not be as expected\n",
      "  Expected `CopickPoint` but got `dict` with value `{'x': 160.0, 'y': 5860.0, 'z': 1370.0}` - serialized value may not be as expected\n",
      "  Expected `CopickPoint` but got `dict` with value `{'x': 191.66666666666669,...y': 5860.0, 'z': 1380.0}` - serialized value may not be as expected\n",
      "  Expected `CopickPoint` but got `dict` with value `{'x': 170.0, 'y': 5882.0, 'z': 1402.0}` - serialized value may not be as expected\n",
      "  Expected `CopickPoint` but got `dict` with value `{'x': 4258.333333333333, 'y': 4500.0, 'z': 1420.0}` - serialized value may not be as expected\n",
      "  Expected `CopickPoint` but got `dict` with value `{'x': 4280.0, 'y': 4500.0, 'z': 1420.0}` - serialized value may not be as expected\n",
      "  Expected `CopickPoint` but got `dict` with value `{'x': 4280.0, 'y': 4510.0, 'z': 1440.0}` - serialized value may not be as expected\n",
      "  return self.__pydantic_serializer__.to_python(\n"
     ]
    },
    {
     "name": "stdout",
     "output_type": "stream",
     "text": [
      "Centroids for label 3 saved successfully.\n"
     ]
    },
    {
     "name": "stderr",
     "output_type": "stream",
     "text": [
      "/home/ngo.trun/miniconda3/envs/cryoet/lib/python3.11/site-packages/pydantic/main.py:426: UserWarning: Pydantic serializer warnings:\n",
      "  Expected `CopickPoint` but got `dict` with value `{'x': 4260.0, 'y': 520.0, 'z': 100.0}` - serialized value may not be as expected\n",
      "  Expected `CopickPoint` but got `dict` with value `{'x': 4250.0, 'y': 540.0, 'z': 100.0}` - serialized value may not be as expected\n",
      "  Expected `CopickPoint` but got `dict` with value `{'x': 5048.0, 'y': 710.0, 'z': 262.0}` - serialized value may not be as expected\n",
      "  Expected `CopickPoint` but got `dict` with value `{'x': 140.0, 'y': 5300.0, 'z': 480.0}` - serialized value may not be as expected\n",
      "  Expected `CopickPoint` but got `dict` with value `{'x': 4770.0, 'y': 3590.0, 'z': 670.0}` - serialized value may not be as expected\n",
      "  Expected `CopickPoint` but got `dict` with value `{'x': 980.0, 'y': 5490.0, 'z': 730.0}` - serialized value may not be as expected\n",
      "  Expected `CopickPoint` but got `dict` with value `{'x': 4264.0, 'y': 2899.0, 'z': 739.0}` - serialized value may not be as expected\n",
      "  Expected `CopickPoint` but got `dict` with value `{'x': 4271.111111111111, ... 'z': 747.7777777777777}` - serialized value may not be as expected\n",
      "  Expected `CopickPoint` but got `dict` with value `{'x': 4302.5, 'y': 2897.5, 'z': 757.5}` - serialized value may not be as expected\n",
      "  Expected `CopickPoint` but got `dict` with value `{'x': 4288.0, 'y': 2910.0, 'z': 758.0}` - serialized value may not be as expected\n",
      "  Expected `CopickPoint` but got `dict` with value `{'x': 3201.666666666667, 'y': 250.0, 'z': 770.0}` - serialized value may not be as expected\n",
      "  Expected `CopickPoint` but got `dict` with value `{'x': 4300.0, 'y': 2910.0, 'z': 770.0}` - serialized value may not be as expected\n",
      "  Expected `CopickPoint` but got `dict` with value `{'x': 4248.0, 'y': 2920.0, 'z': 772.0}` - serialized value may not be as expected\n",
      "  Expected `CopickPoint` but got `dict` with value `{'x': 5100.0, 'y': 5770.0, 'z': 910.0}` - serialized value may not be as expected\n",
      "  Expected `CopickPoint` but got `dict` with value `{'x': 4280.0, 'y': 490.0, 'z': 998.3333333333333}` - serialized value may not be as expected\n",
      "  Expected `CopickPoint` but got `dict` with value `{'x': 4280.0, 'y': 490.0, 'z': 1020.0}` - serialized value may not be as expected\n",
      "  Expected `CopickPoint` but got `dict` with value `{'x': 3810.0, 'y': 4580.0, 'z': 1460.0}` - serialized value may not be as expected\n",
      "  Expected `CopickPoint` but got `dict` with value `{'x': 3810.0, 'y': 4592.0, 'z': 1472.0}` - serialized value may not be as expected\n",
      "  return self.__pydantic_serializer__.to_python(\n"
     ]
    },
    {
     "name": "stdout",
     "output_type": "stream",
     "text": [
      "Centroids for label 4 saved successfully.\n"
     ]
    },
    {
     "name": "stderr",
     "output_type": "stream",
     "text": [
      "/home/ngo.trun/miniconda3/envs/cryoet/lib/python3.11/site-packages/pydantic/main.py:426: UserWarning: Pydantic serializer warnings:\n",
      "  Expected `CopickPoint` but got `dict` with value `{'x': 4260.0, 'y': 500.0, 'z': 30.0}` - serialized value may not be as expected\n",
      "  Expected `CopickPoint` but got `dict` with value `{'x': 5330.0, 'y': 2010.0, 'z': 30.0}` - serialized value may not be as expected\n",
      "  Expected `CopickPoint` but got `dict` with value `{'x': 5362.0, 'y': 2032.0, 'z': 40.0}` - serialized value may not be as expected\n",
      "  Expected `CopickPoint` but got `dict` with value `{'x': 5352.0, 'y': 2020.0, 'z': 62.0}` - serialized value may not be as expected\n",
      "  Expected `CopickPoint` but got `dict` with value `{'x': 5340.0, 'y': 2010.0, 'z': 70.0}` - serialized value may not be as expected\n",
      "  Expected `CopickPoint` but got `dict` with value `{'x': 4590.0, 'y': 2270.0, 'z': 190.0}` - serialized value may not be as expected\n",
      "  Expected `CopickPoint` but got `dict` with value `{'x': 4012.0, 'y': 3490.0, 'z': 268.0}` - serialized value may not be as expected\n",
      "  Expected `CopickPoint` but got `dict` with value `{'x': 3930.0, 'y': 3580.0, 'z': 270.0}` - serialized value may not be as expected\n",
      "  Expected `CopickPoint` but got `dict` with value `{'x': 3920.0, 'y': 3570.0, 'z': 280.0}` - serialized value may not be as expected\n",
      "  Expected `CopickPoint` but got `dict` with value `{'x': 3988.0, 'y': 3500.0, 'z': 292.0}` - serialized value may not be as expected\n",
      "  Expected `CopickPoint` but got `dict` with value `{'x': 2527.5, 'y': 97.5, 'z': 377.5}` - serialized value may not be as expected\n",
      "  Expected `CopickPoint` but got `dict` with value `{'x': 2542.0, 'y': 110.0, 'z': 378.0}` - serialized value may not be as expected\n",
      "  Expected `CopickPoint` but got `dict` with value `{'x': 2570.0, 'y': 4940.0, 'z': 420.0}` - serialized value may not be as expected\n",
      "  Expected `CopickPoint` but got `dict` with value `{'x': 2570.0, 'y': 4950.0, 'z': 440.0}` - serialized value may not be as expected\n",
      "  Expected `CopickPoint` but got `dict` with value `{'x': 2572.0, 'y': 4980.0, 'z': 452.0}` - serialized value may not be as expected\n",
      "  Expected `CopickPoint` but got `dict` with value `{'x': 4820.0, 'y': 140.0, 'z': 498.33333333333337}` - serialized value may not be as expected\n",
      "  Expected `CopickPoint` but got `dict` with value `{'x': 30.0, 'y': 4690.0, 'z': 520.0}` - serialized value may not be as expected\n",
      "  Expected `CopickPoint` but got `dict` with value `{'x': 1870.0, 'y': 4240.0, 'z': 560.0}` - serialized value may not be as expected\n",
      "  Expected `CopickPoint` but got `dict` with value `{'x': 1870.0, 'y': 4252.0, 'z': 572.0}` - serialized value may not be as expected\n",
      "  Expected `CopickPoint` but got `dict` with value `{'x': 2610.0, 'y': 3870.0, 'z': 610.0}` - serialized value may not be as expected\n",
      "  Expected `CopickPoint` but got `dict` with value `{'x': 330.0, 'y': 4280.0, 'z': 660.0}` - serialized value may not be as expected\n",
      "  Expected `CopickPoint` but got `dict` with value `{'x': 170.0, 'y': 5940.0, 'z': 680.0}` - serialized value may not be as expected\n",
      "  Expected `CopickPoint` but got `dict` with value `{'x': 310.0, 'y': 4268.57... 'z': 714.2857142857143}` - serialized value may not be as expected\n",
      "  Expected `CopickPoint` but got `dict` with value `{'x': 312.0, 'y': 4282.0, 'z': 730.0}` - serialized value may not be as expected\n",
      "  Expected `CopickPoint` but got `dict` with value `{'x': 3760.0, 'y': 4500.0, 'z': 760.0}` - serialized value may not be as expected\n",
      "  Expected `CopickPoint` but got `dict` with value `{'x': 280.0, 'y': 4290.0, 'z': 770.0}` - serialized value may not be as expected\n",
      "  Expected `CopickPoint` but got `dict` with value `{'x': 3790.0, 'y': 4490.0, 'z': 770.0}` - serialized value may not be as expected\n",
      "  Expected `CopickPoint` but got `dict` with value `{'x': 3810.0, 'y': 4487.5, 'z': 770.0}` - serialized value may not be as expected\n",
      "  Expected `CopickPoint` but got `dict` with value `{'x': 3820.0, 'y': 4490.0, 'z': 790.0}` - serialized value may not be as expected\n",
      "  Expected `CopickPoint` but got `dict` with value `{'x': 3790.0, 'y': 4630.0, 'z': 830.0}` - serialized value may not be as expected\n",
      "  Expected `CopickPoint` but got `dict` with value `{'x': 4620.0, 'y': 611.25, 'z': 878.75}` - serialized value may not be as expected\n",
      "  Expected `CopickPoint` but got `dict` with value `{'x': 1060.0, 'y': 1080.0, 'z': 890.0}` - serialized value may not be as expected\n",
      "  Expected `CopickPoint` but got `dict` with value `{'x': 4630.0, 'y': 620.0, 'z': 900.0}` - serialized value may not be as expected\n",
      "  Expected `CopickPoint` but got `dict` with value `{'x': 1400.0, 'y': 2693.0, 'z': 959.0}` - serialized value may not be as expected\n",
      "  Expected `CopickPoint` but got `dict` with value `{'x': 1400.0, 'y': 2710.0, 'z': 970.0}` - serialized value may not be as expected\n",
      "  Expected `CopickPoint` but got `dict` with value `{'x': 4830.0, 'y': 50.0, 'z': 990.0}` - serialized value may not be as expected\n",
      "  Expected `CopickPoint` but got `dict` with value `{'x': 1390.0, 'y': 2700.0, 'z': 990.0}` - serialized value may not be as expected\n",
      "  Expected `CopickPoint` but got `dict` with value `{'x': 5410.0, 'y': 5510.0, 'z': 990.0}` - serialized value may not be as expected\n",
      "  Expected `CopickPoint` but got `dict` with value `{'x': 5430.0, 'y': 5490.0, 'z': 1000.0}` - serialized value may not be as expected\n",
      "  Expected `CopickPoint` but got `dict` with value `{'x': 5390.0, 'y': 5520.0, 'z': 1000.0}` - serialized value may not be as expected\n",
      "  Expected `CopickPoint` but got `dict` with value `{'x': 4560.0, 'y': 4570.0, 'z': 1090.0}` - serialized value may not be as expected\n",
      "  Expected `CopickPoint` but got `dict` with value `{'x': 6160.0, 'y': 6170.0, 'z': 1120.0}` - serialized value may not be as expected\n",
      "  Expected `CopickPoint` but got `dict` with value `{'x': 6182.5, 'y': 6157.5, 'z': 1152.5}` - serialized value may not be as expected\n",
      "  Expected `CopickPoint` but got `dict` with value `{'x': 1782.0, 'y': 2370.0, 'z': 1208.0}` - serialized value may not be as expected\n",
      "  Expected `CopickPoint` but got `dict` with value `{'x': 1460.0, 'y': 3950.0, 'z': 1210.0}` - serialized value may not be as expected\n",
      "  Expected `CopickPoint` but got `dict` with value `{'x': 1780.0, 'y': 2370.0, 'z': 1250.0}` - serialized value may not be as expected\n",
      "  Expected `CopickPoint` but got `dict` with value `{'x': 2050.0, 'y': 5930.0, 'z': 1310.0}` - serialized value may not be as expected\n",
      "  Expected `CopickPoint` but got `dict` with value `{'x': 5880.0, 'y': 2710.0, 'z': 1550.0}` - serialized value may not be as expected\n",
      "  Expected `CopickPoint` but got `dict` with value `{'x': 705.0, 'y': 6070.0, 'z': 1568.0}` - serialized value may not be as expected\n",
      "  Expected `CopickPoint` but got `dict` with value `{'x': 4080.0, 'y': 4530.0, 'z': 1760.0}` - serialized value may not be as expected\n",
      "  return self.__pydantic_serializer__.to_python(\n"
     ]
    },
    {
     "name": "stdout",
     "output_type": "stream",
     "text": [
      "Centroids for label 5 saved successfully.\n"
     ]
    },
    {
     "name": "stderr",
     "output_type": "stream",
     "text": [
      "/home/ngo.trun/miniconda3/envs/cryoet/lib/python3.11/site-packages/pydantic/main.py:426: UserWarning: Pydantic serializer warnings:\n",
      "  Expected `CopickPoint` but got `dict` with value `{'x': 2260.0, 'y': 2380.0, 'z': 260.0}` - serialized value may not be as expected\n",
      "  Expected `CopickPoint` but got `dict` with value `{'x': 1060.0, 'y': 1860.0, 'z': 360.0}` - serialized value may not be as expected\n",
      "  Expected `CopickPoint` but got `dict` with value `{'x': 3370.0, 'y': 2820.0, 'z': 450.0}` - serialized value may not be as expected\n",
      "  Expected `CopickPoint` but got `dict` with value `{'x': 4860.0, 'y': 460.0, 'z': 630.0}` - serialized value may not be as expected\n",
      "  Expected `CopickPoint` but got `dict` with value `{'x': 4850.0, 'y': 450.0, 'z': 640.0}` - serialized value may not be as expected\n",
      "  Expected `CopickPoint` but got `dict` with value `{'x': 4040.0, 'y': 6288.333333333334, 'z': 700.0}` - serialized value may not be as expected\n",
      "  Expected `CopickPoint` but got `dict` with value `{'x': 3650.0, 'y': 3710.0, 'z': 730.0}` - serialized value may not be as expected\n",
      "  Expected `CopickPoint` but got `dict` with value `{'x': 5610.0, 'y': 4870.0, 'z': 750.0}` - serialized value may not be as expected\n",
      "  Expected `CopickPoint` but got `dict` with value `{'x': 3090.0, 'y': 2380.0, 'z': 1150.0}` - serialized value may not be as expected\n",
      "  Expected `CopickPoint` but got `dict` with value `{'x': 2820.0, 'y': 2860.0, 'z': 1230.0}` - serialized value may not be as expected\n",
      "  Expected `CopickPoint` but got `dict` with value `{'x': 900.0, 'y': 2380.0, 'z': 1320.0}` - serialized value may not be as expected\n",
      "  return self.__pydantic_serializer__.to_python(\n",
      "3it [02:18, 46.29s/it]"
     ]
    },
    {
     "name": "stdout",
     "output_type": "stream",
     "text": [
      "Centroids for label 6 saved successfully.\n",
      "No segmentation with label 9 found.\n"
     ]
    },
    {
     "name": "stderr",
     "output_type": "stream",
     "text": [
      "\n"
     ]
    }
   ],
   "source": [
    "import copick_utils\n",
    "from copick_utils.segmentation.picks_from_segmentation import picks_from_segmentation\n",
    "\n",
    "\n",
    "particles = dict()\n",
    "for po in root.config.pickable_objects:\n",
    "    particles[po.name] = po.label\n",
    "\n",
    "    \n",
    "maxima_filter_size = 10\n",
    "min_particle_size = 0\n",
    "max_particle_size = 10\n",
    "new_session_id = \"1\"\n",
    "new_user_id = \"paintedFromInferencePicks\"\n",
    "for prediction, run in tqdm(zip(predictions, root.runs)):\n",
    "    for po in particles.keys():\n",
    "        if po != \"membrane\":\n",
    "            class_label = particles[po]\n",
    "            picks_from_segmentation(prediction, class_label, maxima_filter_size, min_particle_size, max_particle_size, new_session_id, new_user_id, po, run, voxel_spacing=10)"
   ]
  },
  {
   "cell_type": "code",
   "execution_count": 11,
   "metadata": {},
   "outputs": [
    {
     "data": {
      "text/plain": [
       "{'apo-ferritin': 1,\n",
       " 'beta-galactosidase': 3,\n",
       " 'ribosome': 4,\n",
       " 'thyroglobulin': 5,\n",
       " 'virus-like-particle': 6,\n",
       " 'membrane': 8,\n",
       " 'background': 9}"
      ]
     },
     "execution_count": 11,
     "metadata": {},
     "output_type": "execute_result"
    }
   ],
   "source": [
    "particles"
   ]
  },
  {
   "cell_type": "code",
   "execution_count": 21,
   "metadata": {},
   "outputs": [
    {
     "name": "stderr",
     "output_type": "stream",
     "text": [
      "100%|██████████| 3/3 [00:00<00:00, 5899.16it/s]"
     ]
    },
    {
     "name": "stdout",
     "output_type": "stream",
     "text": [
      "------------------------------------\n",
      "Experiment name:  TS_5_4\n",
      "------------------------------------\n",
      "Experiment name:  TS_69_2\n",
      "------------------------------------\n",
      "Experiment name:  TS_6_4\n"
     ]
    },
    {
     "name": "stderr",
     "output_type": "stream",
     "text": [
      "\n"
     ]
    }
   ],
   "source": [
    "import pandas as pd\n",
    "\n",
    "inference_points = []\n",
    "idx = -1\n",
    "\n",
    "for run in tqdm(root.runs):\n",
    "    print(\"------------------------------------\")\n",
    "    print(\"Experiment name: \", run.name)\n",
    "    for pname in particles:\n",
    "        pick = run.get_picks(object_name=pname, user_id=new_user_id)\n",
    "        if pick:\n",
    "            for p in pick[0].points:\n",
    "                idx += 1\n",
    "                inference_points.append({\n",
    "                    'id': idx,\n",
    "                    'experiment': run.name,\n",
    "                    'particle_type': pname,\n",
    "                    'x': p['x'],\n",
    "                    'y': p['y'],\n",
    "                    'z': p['z']\n",
    "                })\n",
    "\n",
    "\n",
    "df = pd.DataFrame(inference_points)\n",
    "df.to_csv(\"submission.csv\", index=False)\n",
    "    "
   ]
  },
  {
   "cell_type": "code",
   "execution_count": null,
   "metadata": {},
   "outputs": [],
   "source": []
  },
  {
   "cell_type": "code",
   "execution_count": null,
   "metadata": {},
   "outputs": [],
   "source": []
  },
  {
   "cell_type": "code",
   "execution_count": null,
   "metadata": {},
   "outputs": [],
   "source": []
  },
  {
   "cell_type": "code",
   "execution_count": null,
   "metadata": {},
   "outputs": [],
   "source": []
  },
  {
   "cell_type": "code",
   "execution_count": null,
   "metadata": {},
   "outputs": [],
   "source": []
  },
  {
   "cell_type": "code",
   "execution_count": null,
   "metadata": {},
   "outputs": [],
   "source": []
  }
 ],
 "metadata": {
  "kernelspec": {
   "display_name": "cryoet",
   "language": "python",
   "name": "python3"
  },
  "language_info": {
   "codemirror_mode": {
    "name": "ipython",
    "version": 3
   },
   "file_extension": ".py",
   "mimetype": "text/x-python",
   "name": "python",
   "nbconvert_exporter": "python",
   "pygments_lexer": "ipython3",
   "version": "3.11.10"
  }
 },
 "nbformat": 4,
 "nbformat_minor": 2
}
